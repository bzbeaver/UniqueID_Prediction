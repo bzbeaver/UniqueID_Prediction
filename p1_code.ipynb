{
 "cells": [
  {
   "cell_type": "markdown",
   "metadata": {},
   "source": [
    "# Problem 1"
   ]
  },
  {
   "cell_type": "code",
   "execution_count": 4,
   "metadata": {},
   "outputs": [],
   "source": [
    "#Import Dependencies\n",
    "import numpy as np\n",
    "import pandas as pd\n",
    "import matplotlib.pyplot as plt\n",
    "\n",
    "%matplotlib inline\n",
    "#%matplotlib qt\n",
    "\n",
    "import os"
   ]
  },
  {
   "cell_type": "code",
   "execution_count": 5,
   "metadata": {},
   "outputs": [
    {
     "name": "stdout",
     "output_type": "stream",
     "text": [
      "Train data shape:  (347841, 33)\n",
      "Test data shape:  (86961, 32)\n"
     ]
    }
   ],
   "source": [
    "#Load Datasets\n",
    "\n",
    "# -1 should be treated as NULL, as per the problem statement.\n",
    "train = pd.read_csv('train.csv',delimiter=\",\", index_col=None, na_values='-1')\n",
    "test = pd.read_csv('test.csv',delimiter=\",\", index_col=None, na_values='-1')\n",
    "\n",
    "#Shape of the dataset\n",
    "print 'Train data shape: ', train.shape\n",
    "print 'Test data shape: ', test.shape"
   ]
  },
  {
   "cell_type": "code",
   "execution_count": 6,
   "metadata": {},
   "outputs": [
    {
     "data": {
      "text/html": [
       "<div>\n",
       "<style scoped>\n",
       "    .dataframe tbody tr th:only-of-type {\n",
       "        vertical-align: middle;\n",
       "    }\n",
       "\n",
       "    .dataframe tbody tr th {\n",
       "        vertical-align: top;\n",
       "    }\n",
       "\n",
       "    .dataframe thead th {\n",
       "        text-align: right;\n",
       "    }\n",
       "</style>\n",
       "<table border=\"1\" class=\"dataframe\">\n",
       "  <thead>\n",
       "    <tr style=\"text-align: right;\">\n",
       "      <th></th>\n",
       "      <th>unique_id</th>\n",
       "      <th>metric1</th>\n",
       "      <th>metric2</th>\n",
       "      <th>metric6</th>\n",
       "      <th>metric3</th>\n",
       "      <th>metric4</th>\n",
       "      <th>metric5</th>\n",
       "      <th>binary_var1</th>\n",
       "      <th>region</th>\n",
       "      <th>sourceMedium</th>\n",
       "      <th>...</th>\n",
       "      <th>page4_top</th>\n",
       "      <th>page4_exits</th>\n",
       "      <th>visited_page4</th>\n",
       "      <th>page5_top</th>\n",
       "      <th>page5_exits</th>\n",
       "      <th>visited_page5</th>\n",
       "      <th>page6_top</th>\n",
       "      <th>page6_exits</th>\n",
       "      <th>visited_page6</th>\n",
       "      <th>target</th>\n",
       "    </tr>\n",
       "  </thead>\n",
       "  <tbody>\n",
       "    <tr>\n",
       "      <th>0</th>\n",
       "      <td>1</td>\n",
       "      <td>4</td>\n",
       "      <td>1</td>\n",
       "      <td>2</td>\n",
       "      <td>5.0</td>\n",
       "      <td>5.0</td>\n",
       "      <td>0.0</td>\n",
       "      <td>0</td>\n",
       "      <td>84e516108956e6e374941043b5f73e86</td>\n",
       "      <td>d3d55c19deb05c118cfed68910a1f6bd</td>\n",
       "      <td>...</td>\n",
       "      <td>0.0</td>\n",
       "      <td>NaN</td>\n",
       "      <td>0</td>\n",
       "      <td>0.0</td>\n",
       "      <td>NaN</td>\n",
       "      <td>0</td>\n",
       "      <td>0.0</td>\n",
       "      <td>NaN</td>\n",
       "      <td>0</td>\n",
       "      <td>0</td>\n",
       "    </tr>\n",
       "    <tr>\n",
       "      <th>1</th>\n",
       "      <td>2</td>\n",
       "      <td>0</td>\n",
       "      <td>1</td>\n",
       "      <td>1</td>\n",
       "      <td>0.0</td>\n",
       "      <td>0.0</td>\n",
       "      <td>100.0</td>\n",
       "      <td>0</td>\n",
       "      <td>185a5eb309e9ba14f65e6486f08b3032</td>\n",
       "      <td>3a987a7bb0a840a40d80e301132f138c</td>\n",
       "      <td>...</td>\n",
       "      <td>0.0</td>\n",
       "      <td>NaN</td>\n",
       "      <td>0</td>\n",
       "      <td>0.0</td>\n",
       "      <td>NaN</td>\n",
       "      <td>0</td>\n",
       "      <td>0.0</td>\n",
       "      <td>NaN</td>\n",
       "      <td>0</td>\n",
       "      <td>0</td>\n",
       "    </tr>\n",
       "    <tr>\n",
       "      <th>2</th>\n",
       "      <td>3</td>\n",
       "      <td>0</td>\n",
       "      <td>1</td>\n",
       "      <td>6</td>\n",
       "      <td>37.2</td>\n",
       "      <td>186.0</td>\n",
       "      <td>0.0</td>\n",
       "      <td>1</td>\n",
       "      <td>84e516108956e6e374941043b5f73e86</td>\n",
       "      <td>d3d55c19deb05c118cfed68910a1f6bd</td>\n",
       "      <td>...</td>\n",
       "      <td>0.0</td>\n",
       "      <td>NaN</td>\n",
       "      <td>0</td>\n",
       "      <td>0.0</td>\n",
       "      <td>NaN</td>\n",
       "      <td>0</td>\n",
       "      <td>30.0</td>\n",
       "      <td>0.0</td>\n",
       "      <td>1</td>\n",
       "      <td>0</td>\n",
       "    </tr>\n",
       "    <tr>\n",
       "      <th>3</th>\n",
       "      <td>4</td>\n",
       "      <td>24</td>\n",
       "      <td>1</td>\n",
       "      <td>1</td>\n",
       "      <td>0.0</td>\n",
       "      <td>0.0</td>\n",
       "      <td>100.0</td>\n",
       "      <td>0</td>\n",
       "      <td>185a5eb309e9ba14f65e6486f08b3032</td>\n",
       "      <td>335cceef7d447b13ae8fc7c0e0a7e826</td>\n",
       "      <td>...</td>\n",
       "      <td>0.0</td>\n",
       "      <td>NaN</td>\n",
       "      <td>0</td>\n",
       "      <td>0.0</td>\n",
       "      <td>NaN</td>\n",
       "      <td>0</td>\n",
       "      <td>0.0</td>\n",
       "      <td>1.0</td>\n",
       "      <td>1</td>\n",
       "      <td>0</td>\n",
       "    </tr>\n",
       "    <tr>\n",
       "      <th>4</th>\n",
       "      <td>5</td>\n",
       "      <td>0</td>\n",
       "      <td>1</td>\n",
       "      <td>1</td>\n",
       "      <td>0.0</td>\n",
       "      <td>4.0</td>\n",
       "      <td>0.0</td>\n",
       "      <td>0</td>\n",
       "      <td>3a2d6295a828fc1ec5084af382b61e35</td>\n",
       "      <td>335cceef7d447b13ae8fc7c0e0a7e826</td>\n",
       "      <td>...</td>\n",
       "      <td>0.0</td>\n",
       "      <td>NaN</td>\n",
       "      <td>0</td>\n",
       "      <td>0.0</td>\n",
       "      <td>NaN</td>\n",
       "      <td>0</td>\n",
       "      <td>0.0</td>\n",
       "      <td>NaN</td>\n",
       "      <td>0</td>\n",
       "      <td>0</td>\n",
       "    </tr>\n",
       "  </tbody>\n",
       "</table>\n",
       "<p>5 rows × 33 columns</p>\n",
       "</div>"
      ],
      "text/plain": [
       "   unique_id  metric1  metric2  metric6  metric3  metric4  metric5  \\\n",
       "0          1        4        1        2      5.0      5.0      0.0   \n",
       "1          2        0        1        1      0.0      0.0    100.0   \n",
       "2          3        0        1        6     37.2    186.0      0.0   \n",
       "3          4       24        1        1      0.0      0.0    100.0   \n",
       "4          5        0        1        1      0.0      4.0      0.0   \n",
       "\n",
       "   binary_var1                            region  \\\n",
       "0            0  84e516108956e6e374941043b5f73e86   \n",
       "1            0  185a5eb309e9ba14f65e6486f08b3032   \n",
       "2            1  84e516108956e6e374941043b5f73e86   \n",
       "3            0  185a5eb309e9ba14f65e6486f08b3032   \n",
       "4            0  3a2d6295a828fc1ec5084af382b61e35   \n",
       "\n",
       "                       sourceMedium   ...   page4_top page4_exits  \\\n",
       "0  d3d55c19deb05c118cfed68910a1f6bd   ...         0.0         NaN   \n",
       "1  3a987a7bb0a840a40d80e301132f138c   ...         0.0         NaN   \n",
       "2  d3d55c19deb05c118cfed68910a1f6bd   ...         0.0         NaN   \n",
       "3  335cceef7d447b13ae8fc7c0e0a7e826   ...         0.0         NaN   \n",
       "4  335cceef7d447b13ae8fc7c0e0a7e826   ...         0.0         NaN   \n",
       "\n",
       "   visited_page4  page5_top  page5_exits  visited_page5  page6_top  \\\n",
       "0              0        0.0          NaN              0        0.0   \n",
       "1              0        0.0          NaN              0        0.0   \n",
       "2              0        0.0          NaN              0       30.0   \n",
       "3              0        0.0          NaN              0        0.0   \n",
       "4              0        0.0          NaN              0        0.0   \n",
       "\n",
       "   page6_exits  visited_page6  target  \n",
       "0          NaN              0       0  \n",
       "1          NaN              0       0  \n",
       "2          0.0              1       0  \n",
       "3          1.0              1       0  \n",
       "4          NaN              0       0  \n",
       "\n",
       "[5 rows x 33 columns]"
      ]
     },
     "execution_count": 6,
     "metadata": {},
     "output_type": "execute_result"
    }
   ],
   "source": [
    "train.head()"
   ]
  },
  {
   "cell_type": "markdown",
   "metadata": {},
   "source": [
    "## Checking NULL values"
   ]
  },
  {
   "cell_type": "code",
   "execution_count": 7,
   "metadata": {},
   "outputs": [
    {
     "name": "stdout",
     "output_type": "stream",
     "text": [
      "page1_exits    98.505927\n",
      "page2_exits    99.989363\n",
      "page3_exits    91.757153\n",
      "page4_exits    98.269324\n",
      "page5_exits    99.808533\n",
      "page6_exits    55.573380\n",
      "dtype: float64\n"
     ]
    }
   ],
   "source": [
    "# Column wise Nulls\n",
    "\n",
    "null_columns=train.columns[train.isnull().any()]\n",
    "null_ = train[null_columns].isnull().sum()\n",
    "train_w_null_cols = (null_/train.shape[0])*100 \n",
    "print train_w_null_cols"
   ]
  },
  {
   "cell_type": "code",
   "execution_count": 8,
   "metadata": {},
   "outputs": [
    {
     "name": "stdout",
     "output_type": "stream",
     "text": [
      "Train size after dropping columns:  (347841, 27)\n"
     ]
    }
   ],
   "source": [
    "## All the above columns has more than \"50%\" of its value as Null, \n",
    "## So there is not much information avaialble to explain 'target'\n",
    "\n",
    "#### Removing those columns:\n",
    "drop_col = train_w_null_cols.index.tolist()\n",
    "train.drop(drop_col, axis = 1, inplace=True)\n",
    "print 'Train size after dropping columns: ', train.shape"
   ]
  },
  {
   "cell_type": "code",
   "execution_count": 7,
   "metadata": {},
   "outputs": [
    {
     "name": "stdout",
     "output_type": "stream",
     "text": [
      "No.of rows with % of Nulls > threshold are:  0\n"
     ]
    }
   ],
   "source": [
    "# Row wise Nulls\n",
    "\n",
    "def num_missing(x):\n",
    "    return sum(x.isnull())\n",
    "\n",
    "train_row = train.apply(num_missing, axis=1) #axis=1 defines that function is to be applied on each row\n",
    "\n",
    "df1 = pd.DataFrame(index=train_row.index)\n",
    "df1['value'] = train_row\n",
    "\n",
    "threshold = np.round(train.shape[1] * 0.20)\n",
    "\n",
    "df2 = df1[df1.value > threshold]\n",
    "null_row_index = df2.index\n",
    "print \"No.of rows with % of Nulls > threshold are: \", len(df2)"
   ]
  },
  {
   "cell_type": "markdown",
   "metadata": {},
   "source": [
    "There won't be any rows with NULLS because we have removed all the columns with Nulls(all of them exceeded 50%)"
   ]
  },
  {
   "cell_type": "code",
   "execution_count": 9,
   "metadata": {
    "scrolled": false
   },
   "outputs": [
    {
     "data": {
      "text/plain": [
       "unique_id          int64:dense\n",
       "metric1            int64:dense\n",
       "metric2            int64:dense\n",
       "metric6            int64:dense\n",
       "metric3          float64:dense\n",
       "metric4          float64:dense\n",
       "metric5          float64:dense\n",
       "binary_var1        int64:dense\n",
       "region            object:dense\n",
       "sourceMedium      object:dense\n",
       "device            object:dense\n",
       "country           object:dense\n",
       "dayHourMinute      int64:dense\n",
       "binary_var2        int64:dense\n",
       "page1_top        float64:dense\n",
       "visited_page1      int64:dense\n",
       "page2_top        float64:dense\n",
       "visited_page2      int64:dense\n",
       "page3_top        float64:dense\n",
       "visited_page3      int64:dense\n",
       "page4_top        float64:dense\n",
       "visited_page4      int64:dense\n",
       "page5_top        float64:dense\n",
       "visited_page5      int64:dense\n",
       "page6_top        float64:dense\n",
       "visited_page6      int64:dense\n",
       "target             int64:dense\n",
       "dtype: object"
      ]
     },
     "execution_count": 9,
     "metadata": {},
     "output_type": "execute_result"
    }
   ],
   "source": [
    "# Check Datatypes column wise\n",
    "train.ftypes"
   ]
  },
  {
   "cell_type": "code",
   "execution_count": 10,
   "metadata": {},
   "outputs": [
    {
     "data": {
      "text/plain": [
       "0    316036\n",
       "1     31805\n",
       "Name: target, dtype: int64"
      ]
     },
     "execution_count": 10,
     "metadata": {},
     "output_type": "execute_result"
    }
   ],
   "source": [
    "## Check for class imabalance in target\n",
    "train.target.value_counts()"
   ]
  },
  {
   "cell_type": "markdown",
   "metadata": {},
   "source": [
    "Since the no.of samples with target==0 is 10xtimes of that with target==0, \n",
    "Clearly there is CLASS IMBALANCE"
   ]
  },
  {
   "cell_type": "code",
   "execution_count": 11,
   "metadata": {},
   "outputs": [],
   "source": [
    "# Page1_Visited means whether unique id has visited the page or not => categorical\n",
    "for col in ['visited_page1', 'visited_page2', 'visited_page3',  'visited_page4', 'visited_page5', 'visited_page6']:\n",
    "    train[col] = train[col].astype('category')\n",
    "\n",
    "# Binary_Var contains binary values\n",
    "for col in ['binary_var1', 'binary_var2']:\n",
    "    train[col] = train[col].astype('category')\n",
    "\n",
    "# region/sourceMedium/country/device are also treated categorical\n",
    "for col in ['region', 'sourceMedium', 'device', 'country']:\n",
    "    train[col] = train[col].astype('category')\n",
    "\n",
    "train['target'] = train['target'].astype('category')"
   ]
  },
  {
   "cell_type": "code",
   "execution_count": 12,
   "metadata": {},
   "outputs": [],
   "source": []
  },
  {
   "cell_type": "code",
   "execution_count": 54,
   "metadata": {},
   "outputs": [
    {
     "data": {
      "text/plain": [
       "binary_var1      category\n",
       "binary_var2      category\n",
       "country          category\n",
       "dayHourMinute       int64\n",
       "device           category\n",
       "metric1             int64\n",
       "metric2             int64\n",
       "metric3           float64\n",
       "metric4           float64\n",
       "metric5           float64\n",
       "metric6             int64\n",
       "page1_top         float64\n",
       "page2_top         float64\n",
       "page3_top         float64\n",
       "page4_top         float64\n",
       "page5_top         float64\n",
       "page6_top         float64\n",
       "region           category\n",
       "sourceMedium     category\n",
       "unique_id           int64\n",
       "visited_page1    category\n",
       "visited_page2    category\n",
       "visited_page3    category\n",
       "visited_page4    category\n",
       "visited_page5    category\n",
       "visited_page6    category\n",
       "dtype: object"
      ]
     },
     "execution_count": 54,
     "metadata": {},
     "output_type": "execute_result"
    }
   ],
   "source": [
    "X.dtypes"
   ]
  },
  {
   "cell_type": "code",
   "execution_count": 13,
   "metadata": {},
   "outputs": [],
   "source": []
  },
  {
   "cell_type": "code",
   "execution_count": 14,
   "metadata": {},
   "outputs": [
    {
     "name": "stdout",
     "output_type": "stream",
     "text": [
      "*==Chi2 analysis wrt target==*\n"
     ]
    },
    {
     "data": {
      "text/html": [
       "<div>\n",
       "<style scoped>\n",
       "    .dataframe tbody tr th:only-of-type {\n",
       "        vertical-align: middle;\n",
       "    }\n",
       "\n",
       "    .dataframe tbody tr th {\n",
       "        vertical-align: top;\n",
       "    }\n",
       "\n",
       "    .dataframe thead th {\n",
       "        text-align: right;\n",
       "    }\n",
       "</style>\n",
       "<table border=\"1\" class=\"dataframe\">\n",
       "  <thead>\n",
       "    <tr style=\"text-align: right;\">\n",
       "      <th></th>\n",
       "      <th>chi2_statistic</th>\n",
       "      <th>p_value</th>\n",
       "      <th>degrees_of_freedom</th>\n",
       "    </tr>\n",
       "  </thead>\n",
       "  <tbody>\n",
       "    <tr>\n",
       "      <th>visited_page1</th>\n",
       "      <td>413.413665</td>\n",
       "      <td>6.623182e-92</td>\n",
       "      <td>1</td>\n",
       "    </tr>\n",
       "    <tr>\n",
       "      <th>visited_page2</th>\n",
       "      <td>0.004445</td>\n",
       "      <td>9.468411e-01</td>\n",
       "      <td>1</td>\n",
       "    </tr>\n",
       "    <tr>\n",
       "      <th>visited_page3</th>\n",
       "      <td>4976.188142</td>\n",
       "      <td>0.000000e+00</td>\n",
       "      <td>1</td>\n",
       "    </tr>\n",
       "    <tr>\n",
       "      <th>visited_page4</th>\n",
       "      <td>51.478897</td>\n",
       "      <td>7.237086e-13</td>\n",
       "      <td>1</td>\n",
       "    </tr>\n",
       "    <tr>\n",
       "      <th>visited_page5</th>\n",
       "      <td>18.087204</td>\n",
       "      <td>2.110148e-05</td>\n",
       "      <td>1</td>\n",
       "    </tr>\n",
       "    <tr>\n",
       "      <th>visited_page6</th>\n",
       "      <td>1216.158657</td>\n",
       "      <td>1.877550e-266</td>\n",
       "      <td>1</td>\n",
       "    </tr>\n",
       "    <tr>\n",
       "      <th>binary_var1</th>\n",
       "      <td>17808.556720</td>\n",
       "      <td>0.000000e+00</td>\n",
       "      <td>1</td>\n",
       "    </tr>\n",
       "    <tr>\n",
       "      <th>binary_var2</th>\n",
       "      <td>39757.633605</td>\n",
       "      <td>0.000000e+00</td>\n",
       "      <td>1</td>\n",
       "    </tr>\n",
       "    <tr>\n",
       "      <th>region</th>\n",
       "      <td>15094.784886</td>\n",
       "      <td>0.000000e+00</td>\n",
       "      <td>562</td>\n",
       "    </tr>\n",
       "    <tr>\n",
       "      <th>sourceMedium</th>\n",
       "      <td>46616.356384</td>\n",
       "      <td>0.000000e+00</td>\n",
       "      <td>461</td>\n",
       "    </tr>\n",
       "    <tr>\n",
       "      <th>device</th>\n",
       "      <td>9406.275035</td>\n",
       "      <td>0.000000e+00</td>\n",
       "      <td>2</td>\n",
       "    </tr>\n",
       "    <tr>\n",
       "      <th>country</th>\n",
       "      <td>14646.919408</td>\n",
       "      <td>0.000000e+00</td>\n",
       "      <td>153</td>\n",
       "    </tr>\n",
       "  </tbody>\n",
       "</table>\n",
       "</div>"
      ],
      "text/plain": [
       "               chi2_statistic        p_value  degrees_of_freedom\n",
       "visited_page1      413.413665   6.623182e-92                   1\n",
       "visited_page2        0.004445   9.468411e-01                   1\n",
       "visited_page3     4976.188142   0.000000e+00                   1\n",
       "visited_page4       51.478897   7.237086e-13                   1\n",
       "visited_page5       18.087204   2.110148e-05                   1\n",
       "visited_page6     1216.158657  1.877550e-266                   1\n",
       "binary_var1      17808.556720   0.000000e+00                   1\n",
       "binary_var2      39757.633605   0.000000e+00                   1\n",
       "region           15094.784886   0.000000e+00                 562\n",
       "sourceMedium     46616.356384   0.000000e+00                 461\n",
       "device            9406.275035   0.000000e+00                   2\n",
       "country          14646.919408   0.000000e+00                 153"
      ]
     },
     "execution_count": 14,
     "metadata": {},
     "output_type": "execute_result"
    }
   ],
   "source": [
    "import scipy.stats as scs\n",
    "\n",
    "## Chi-square analysis on all categorical variables w.r.t target variable:\n",
    "cat_cols = ['visited_page1', 'visited_page2', 'visited_page3',  'visited_page4', 'visited_page5', 'visited_page6',\n",
    "            'binary_var1', 'binary_var2', 'region', 'sourceMedium', 'device', 'country']\n",
    "print '*==Chi2 analysis wrt target==*'\n",
    "\n",
    "rec_ = []\n",
    "for col in cat_cols:\n",
    "    chi2 = scs.chi2_contingency(pd.crosstab(index=train[col],columns=train['target']))\n",
    "    rec = chi2[0:3]\n",
    "    rec_.append(rec)\n",
    "    \n",
    "rec_tab = pd.DataFrame(rec_, columns = ['chi2_statistic', 'p_value', 'degrees_of_freedom'])\n",
    "rec_tab.index = cat_cols\n",
    "rec_tab"
   ]
  },
  {
   "cell_type": "markdown",
   "metadata": {},
   "source": [
    "Null Hypothesis: each categorical column is associated with target variable.\n",
    "\n",
    "But, as per the test, \n",
    "\n",
    "Sine p-value is a probability that measures the evidence against the null hypothesis. Lower probabilities provide stronger evidence 'against' the null hypothesis.\n",
    "\n",
    "Except visited_page2 (with p greater than 0.05, significance), rest all has some information associated with target variable. let's keep this noted!"
   ]
  },
  {
   "cell_type": "code",
   "execution_count": 28,
   "metadata": {},
   "outputs": [],
   "source": [
    "# working with numerical columns to see if there is any relation\n",
    "\n",
    "#excluding dayhourminute column for now\n",
    "num_cols = ['metric1', 'metric2', 'metric3', 'metric4', 'metric5','metric6', 'page1_top', 'page2_top', 'page3_top', 'page4_top',\n",
    "           'page5_top', 'page6_top']\n",
    "\n",
    "num_data = train[num_cols]"
   ]
  },
  {
   "cell_type": "code",
   "execution_count": 82,
   "metadata": {},
   "outputs": [
    {
     "data": {
      "text/html": [
       "<div>\n",
       "<style scoped>\n",
       "    .dataframe tbody tr th:only-of-type {\n",
       "        vertical-align: middle;\n",
       "    }\n",
       "\n",
       "    .dataframe tbody tr th {\n",
       "        vertical-align: top;\n",
       "    }\n",
       "\n",
       "    .dataframe thead th {\n",
       "        text-align: right;\n",
       "    }\n",
       "</style>\n",
       "<table border=\"1\" class=\"dataframe\">\n",
       "  <thead>\n",
       "    <tr style=\"text-align: right;\">\n",
       "      <th></th>\n",
       "      <th>metric1</th>\n",
       "      <th>metric2</th>\n",
       "      <th>metric3</th>\n",
       "      <th>metric4</th>\n",
       "      <th>metric5</th>\n",
       "      <th>metric6</th>\n",
       "      <th>page1_top</th>\n",
       "      <th>page2_top</th>\n",
       "      <th>page3_top</th>\n",
       "      <th>page4_top</th>\n",
       "      <th>page5_top</th>\n",
       "      <th>page6_top</th>\n",
       "    </tr>\n",
       "  </thead>\n",
       "  <tbody>\n",
       "    <tr>\n",
       "      <th>metric1</th>\n",
       "      <td>1.000000</td>\n",
       "      <td>-0.008537</td>\n",
       "      <td>0.009634</td>\n",
       "      <td>0.004209</td>\n",
       "      <td>-0.031370</td>\n",
       "      <td>-0.015225</td>\n",
       "      <td>0.001031</td>\n",
       "      <td>-0.000667</td>\n",
       "      <td>0.004716</td>\n",
       "      <td>0.001086</td>\n",
       "      <td>0.002267</td>\n",
       "      <td>0.013038</td>\n",
       "    </tr>\n",
       "    <tr>\n",
       "      <th>metric2</th>\n",
       "      <td>-0.008537</td>\n",
       "      <td>1.000000</td>\n",
       "      <td>0.155708</td>\n",
       "      <td>0.166962</td>\n",
       "      <td>-0.098065</td>\n",
       "      <td>0.474780</td>\n",
       "      <td>0.031139</td>\n",
       "      <td>0.017599</td>\n",
       "      <td>0.084436</td>\n",
       "      <td>0.026918</td>\n",
       "      <td>0.013206</td>\n",
       "      <td>0.163855</td>\n",
       "    </tr>\n",
       "    <tr>\n",
       "      <th>metric3</th>\n",
       "      <td>0.009634</td>\n",
       "      <td>0.155708</td>\n",
       "      <td>1.000000</td>\n",
       "      <td>0.523589</td>\n",
       "      <td>-0.347091</td>\n",
       "      <td>0.122781</td>\n",
       "      <td>0.059809</td>\n",
       "      <td>0.006426</td>\n",
       "      <td>0.154935</td>\n",
       "      <td>0.048063</td>\n",
       "      <td>0.017685</td>\n",
       "      <td>0.465361</td>\n",
       "    </tr>\n",
       "    <tr>\n",
       "      <th>metric4</th>\n",
       "      <td>0.004209</td>\n",
       "      <td>0.166962</td>\n",
       "      <td>0.523589</td>\n",
       "      <td>1.000000</td>\n",
       "      <td>-0.377635</td>\n",
       "      <td>0.505131</td>\n",
       "      <td>0.072670</td>\n",
       "      <td>0.010511</td>\n",
       "      <td>0.187027</td>\n",
       "      <td>0.068701</td>\n",
       "      <td>0.035177</td>\n",
       "      <td>0.371861</td>\n",
       "    </tr>\n",
       "    <tr>\n",
       "      <th>metric5</th>\n",
       "      <td>-0.031370</td>\n",
       "      <td>-0.098065</td>\n",
       "      <td>-0.347091</td>\n",
       "      <td>-0.377635</td>\n",
       "      <td>1.000000</td>\n",
       "      <td>-0.297294</td>\n",
       "      <td>-0.034220</td>\n",
       "      <td>-0.003459</td>\n",
       "      <td>-0.091830</td>\n",
       "      <td>-0.040796</td>\n",
       "      <td>-0.012791</td>\n",
       "      <td>-0.228760</td>\n",
       "    </tr>\n",
       "    <tr>\n",
       "      <th>metric6</th>\n",
       "      <td>-0.015225</td>\n",
       "      <td>0.474780</td>\n",
       "      <td>0.122781</td>\n",
       "      <td>0.505131</td>\n",
       "      <td>-0.297294</td>\n",
       "      <td>1.000000</td>\n",
       "      <td>0.044048</td>\n",
       "      <td>0.018550</td>\n",
       "      <td>0.100708</td>\n",
       "      <td>0.043128</td>\n",
       "      <td>0.021154</td>\n",
       "      <td>0.167633</td>\n",
       "    </tr>\n",
       "    <tr>\n",
       "      <th>page1_top</th>\n",
       "      <td>0.001031</td>\n",
       "      <td>0.031139</td>\n",
       "      <td>0.059809</td>\n",
       "      <td>0.072670</td>\n",
       "      <td>-0.034220</td>\n",
       "      <td>0.044048</td>\n",
       "      <td>1.000000</td>\n",
       "      <td>0.012238</td>\n",
       "      <td>0.043315</td>\n",
       "      <td>0.046827</td>\n",
       "      <td>0.020456</td>\n",
       "      <td>0.014232</td>\n",
       "    </tr>\n",
       "    <tr>\n",
       "      <th>page2_top</th>\n",
       "      <td>-0.000667</td>\n",
       "      <td>0.017599</td>\n",
       "      <td>0.006426</td>\n",
       "      <td>0.010511</td>\n",
       "      <td>-0.003459</td>\n",
       "      <td>0.018550</td>\n",
       "      <td>0.012238</td>\n",
       "      <td>1.000000</td>\n",
       "      <td>0.025778</td>\n",
       "      <td>0.001379</td>\n",
       "      <td>-0.000094</td>\n",
       "      <td>0.005923</td>\n",
       "    </tr>\n",
       "    <tr>\n",
       "      <th>page3_top</th>\n",
       "      <td>0.004716</td>\n",
       "      <td>0.084436</td>\n",
       "      <td>0.154935</td>\n",
       "      <td>0.187027</td>\n",
       "      <td>-0.091830</td>\n",
       "      <td>0.100708</td>\n",
       "      <td>0.043315</td>\n",
       "      <td>0.025778</td>\n",
       "      <td>1.000000</td>\n",
       "      <td>0.042171</td>\n",
       "      <td>0.014336</td>\n",
       "      <td>0.047500</td>\n",
       "    </tr>\n",
       "    <tr>\n",
       "      <th>page4_top</th>\n",
       "      <td>0.001086</td>\n",
       "      <td>0.026918</td>\n",
       "      <td>0.048063</td>\n",
       "      <td>0.068701</td>\n",
       "      <td>-0.040796</td>\n",
       "      <td>0.043128</td>\n",
       "      <td>0.046827</td>\n",
       "      <td>0.001379</td>\n",
       "      <td>0.042171</td>\n",
       "      <td>1.000000</td>\n",
       "      <td>0.017078</td>\n",
       "      <td>0.018260</td>\n",
       "    </tr>\n",
       "    <tr>\n",
       "      <th>page5_top</th>\n",
       "      <td>0.002267</td>\n",
       "      <td>0.013206</td>\n",
       "      <td>0.017685</td>\n",
       "      <td>0.035177</td>\n",
       "      <td>-0.012791</td>\n",
       "      <td>0.021154</td>\n",
       "      <td>0.020456</td>\n",
       "      <td>-0.000094</td>\n",
       "      <td>0.014336</td>\n",
       "      <td>0.017078</td>\n",
       "      <td>1.000000</td>\n",
       "      <td>0.002328</td>\n",
       "    </tr>\n",
       "    <tr>\n",
       "      <th>page6_top</th>\n",
       "      <td>0.013038</td>\n",
       "      <td>0.163855</td>\n",
       "      <td>0.465361</td>\n",
       "      <td>0.371861</td>\n",
       "      <td>-0.228760</td>\n",
       "      <td>0.167633</td>\n",
       "      <td>0.014232</td>\n",
       "      <td>0.005923</td>\n",
       "      <td>0.047500</td>\n",
       "      <td>0.018260</td>\n",
       "      <td>0.002328</td>\n",
       "      <td>1.000000</td>\n",
       "    </tr>\n",
       "  </tbody>\n",
       "</table>\n",
       "</div>"
      ],
      "text/plain": [
       "            metric1   metric2   metric3   metric4   metric5   metric6  \\\n",
       "metric1    1.000000 -0.008537  0.009634  0.004209 -0.031370 -0.015225   \n",
       "metric2   -0.008537  1.000000  0.155708  0.166962 -0.098065  0.474780   \n",
       "metric3    0.009634  0.155708  1.000000  0.523589 -0.347091  0.122781   \n",
       "metric4    0.004209  0.166962  0.523589  1.000000 -0.377635  0.505131   \n",
       "metric5   -0.031370 -0.098065 -0.347091 -0.377635  1.000000 -0.297294   \n",
       "metric6   -0.015225  0.474780  0.122781  0.505131 -0.297294  1.000000   \n",
       "page1_top  0.001031  0.031139  0.059809  0.072670 -0.034220  0.044048   \n",
       "page2_top -0.000667  0.017599  0.006426  0.010511 -0.003459  0.018550   \n",
       "page3_top  0.004716  0.084436  0.154935  0.187027 -0.091830  0.100708   \n",
       "page4_top  0.001086  0.026918  0.048063  0.068701 -0.040796  0.043128   \n",
       "page5_top  0.002267  0.013206  0.017685  0.035177 -0.012791  0.021154   \n",
       "page6_top  0.013038  0.163855  0.465361  0.371861 -0.228760  0.167633   \n",
       "\n",
       "           page1_top  page2_top  page3_top  page4_top  page5_top  page6_top  \n",
       "metric1     0.001031  -0.000667   0.004716   0.001086   0.002267   0.013038  \n",
       "metric2     0.031139   0.017599   0.084436   0.026918   0.013206   0.163855  \n",
       "metric3     0.059809   0.006426   0.154935   0.048063   0.017685   0.465361  \n",
       "metric4     0.072670   0.010511   0.187027   0.068701   0.035177   0.371861  \n",
       "metric5    -0.034220  -0.003459  -0.091830  -0.040796  -0.012791  -0.228760  \n",
       "metric6     0.044048   0.018550   0.100708   0.043128   0.021154   0.167633  \n",
       "page1_top   1.000000   0.012238   0.043315   0.046827   0.020456   0.014232  \n",
       "page2_top   0.012238   1.000000   0.025778   0.001379  -0.000094   0.005923  \n",
       "page3_top   0.043315   0.025778   1.000000   0.042171   0.014336   0.047500  \n",
       "page4_top   0.046827   0.001379   0.042171   1.000000   0.017078   0.018260  \n",
       "page5_top   0.020456  -0.000094   0.014336   0.017078   1.000000   0.002328  \n",
       "page6_top   0.014232   0.005923   0.047500   0.018260   0.002328   1.000000  "
      ]
     },
     "execution_count": 82,
     "metadata": {},
     "output_type": "execute_result"
    }
   ],
   "source": [
    "## Correlation between all numeric column variables\n",
    "num_data.corr()"
   ]
  },
  {
   "cell_type": "markdown",
   "metadata": {},
   "source": [
    "None of the numeric variables are highly correlated(i.e., close to +/-1). Bivariate analysis might give us some information regarding the numeric variables."
   ]
  },
  {
   "cell_type": "code",
   "execution_count": 18,
   "metadata": {
    "scrolled": false
   },
   "outputs": [
    {
     "data": {
      "text/plain": [
       "array([[<matplotlib.axes._subplots.AxesSubplot object at 0x7fc442425c90>,\n",
       "        <matplotlib.axes._subplots.AxesSubplot object at 0x7fc44233c690>,\n",
       "        <matplotlib.axes._subplots.AxesSubplot object at 0x7fc442382e10>,\n",
       "        <matplotlib.axes._subplots.AxesSubplot object at 0x7fc442321350>,\n",
       "        <matplotlib.axes._subplots.AxesSubplot object at 0x7fc4422c1690>],\n",
       "       [<matplotlib.axes._subplots.AxesSubplot object at 0x7fc442299190>,\n",
       "        <matplotlib.axes._subplots.AxesSubplot object at 0x7fc442257710>,\n",
       "        <matplotlib.axes._subplots.AxesSubplot object at 0x7fc4421f53d0>,\n",
       "        <matplotlib.axes._subplots.AxesSubplot object at 0x7fc4421dc910>,\n",
       "        <matplotlib.axes._subplots.AxesSubplot object at 0x7fc44226b210>],\n",
       "       [<matplotlib.axes._subplots.AxesSubplot object at 0x7fc4467fb2d0>,\n",
       "        <matplotlib.axes._subplots.AxesSubplot object at 0x7fc447191c50>,\n",
       "        <matplotlib.axes._subplots.AxesSubplot object at 0x7fc447baedd0>,\n",
       "        <matplotlib.axes._subplots.AxesSubplot object at 0x7fc4421a9d50>,\n",
       "        <matplotlib.axes._subplots.AxesSubplot object at 0x7fc44211a610>],\n",
       "       [<matplotlib.axes._subplots.AxesSubplot object at 0x7fc4420d7f90>,\n",
       "        <matplotlib.axes._subplots.AxesSubplot object at 0x7fc4420a8ed0>,\n",
       "        <matplotlib.axes._subplots.AxesSubplot object at 0x7fc441ff7890>,\n",
       "        <matplotlib.axes._subplots.AxesSubplot object at 0x7fc442090990>,\n",
       "        <matplotlib.axes._subplots.AxesSubplot object at 0x7fc441f73dd0>],\n",
       "       [<matplotlib.axes._subplots.AxesSubplot object at 0x7fc441f41d90>,\n",
       "        <matplotlib.axes._subplots.AxesSubplot object at 0x7fc441f10750>,\n",
       "        <matplotlib.axes._subplots.AxesSubplot object at 0x7fc441ecefd0>,\n",
       "        <matplotlib.axes._subplots.AxesSubplot object at 0x7fc441e8cc10>,\n",
       "        <matplotlib.axes._subplots.AxesSubplot object at 0x7fc441e5cb50>]], dtype=object)"
      ]
     },
     "execution_count": 18,
     "metadata": {},
     "output_type": "execute_result"
    },
    {
     "data": {
      "image/png": "[encoded data removed]",
      "text/plain": [
       "<matplotlib.figure.Figure at 0x7fc4570168d0>"
      ]
     },
     "metadata": {},
     "output_type": "display_data"
    }
   ],
   "source": [
    "# Scatter plot between all the metric variables\n",
    "\n",
    "pd.plotting.scatter_matrix(num_data[num_cols[0:5]])"
   ]
  },
  {
   "cell_type": "markdown",
   "metadata": {},
   "source": [
    "The plots between a few variables, like metric5 w.r.t all other metrics seems to be in a different & very complex shape.\n",
    "\n",
    "metric1 compared to 2,3,4 have almost the same shape with a little variation"
   ]
  },
  {
   "cell_type": "code",
   "execution_count": 19,
   "metadata": {},
   "outputs": [
    {
     "data": {
      "text/plain": [
       "array([[<matplotlib.axes._subplots.AxesSubplot object at 0x7fc441d99e90>,\n",
       "        <matplotlib.axes._subplots.AxesSubplot object at 0x7fc441bcda50>,\n",
       "        <matplotlib.axes._subplots.AxesSubplot object at 0x7fc441b9b410>,\n",
       "        <matplotlib.axes._subplots.AxesSubplot object at 0x7fc440357d90>,\n",
       "        <matplotlib.axes._subplots.AxesSubplot object at 0x7fc440324d50>,\n",
       "        <matplotlib.axes._subplots.AxesSubplot object at 0x7fc4402e1590>],\n",
       "       [<matplotlib.axes._subplots.AxesSubplot object at 0x7fc4402a3f10>,\n",
       "        <matplotlib.axes._subplots.AxesSubplot object at 0x7fc4401f07d0>,\n",
       "        <matplotlib.axes._subplots.AxesSubplot object at 0x7fc44020fd50>,\n",
       "        <matplotlib.axes._subplots.AxesSubplot object at 0x7fc4402751d0>,\n",
       "        <matplotlib.axes._subplots.AxesSubplot object at 0x7fc44013c8d0>,\n",
       "        <matplotlib.axes._subplots.AxesSubplot object at 0x7fc440166790>],\n",
       "       [<matplotlib.axes._subplots.AxesSubplot object at 0x7fc4400cbc90>,\n",
       "        <matplotlib.axes._subplots.AxesSubplot object at 0x7fc440098550>,\n",
       "        <matplotlib.axes._subplots.AxesSubplot object at 0x7fc440052910>,\n",
       "        <matplotlib.axes._subplots.AxesSubplot object at 0x7fc43bff5250>,\n",
       "        <matplotlib.axes._subplots.AxesSubplot object at 0x7fc43bfb4ad0>,\n",
       "        <matplotlib.axes._subplots.AxesSubplot object at 0x7fc43bf62150>],\n",
       "       [<matplotlib.axes._subplots.AxesSubplot object at 0x7fc440069410>,\n",
       "        <matplotlib.axes._subplots.AxesSubplot object at 0x7fc43be81bd0>,\n",
       "        <matplotlib.axes._subplots.AxesSubplot object at 0x7fc43beada10>,\n",
       "        <matplotlib.axes._subplots.AxesSubplot object at 0x7fc43be12f90>,\n",
       "        <matplotlib.axes._subplots.AxesSubplot object at 0x7fc43bde0950>,\n",
       "        <matplotlib.axes._subplots.AxesSubplot object at 0x7fc43bd98a10>],\n",
       "       [<matplotlib.axes._subplots.AxesSubplot object at 0x7fc43bd67950>,\n",
       "        <matplotlib.axes._subplots.AxesSubplot object at 0x7fc43bd34310>,\n",
       "        <matplotlib.axes._subplots.AxesSubplot object at 0x7fc43bcf7c10>,\n",
       "        <matplotlib.axes._subplots.AxesSubplot object at 0x7fc43bcb2e50>,\n",
       "        <matplotlib.axes._subplots.AxesSubplot object at 0x7fc43bc5dd10>,\n",
       "        <matplotlib.axes._subplots.AxesSubplot object at 0x7fc43bbce250>],\n",
       "       [<matplotlib.axes._subplots.AxesSubplot object at 0x7fc43bb8cad0>,\n",
       "        <matplotlib.axes._subplots.AxesSubplot object at 0x7fc43bbb0550>,\n",
       "        <matplotlib.axes._subplots.AxesSubplot object at 0x7fc442090b10>,\n",
       "        <matplotlib.axes._subplots.AxesSubplot object at 0x7fc43bb27110>,\n",
       "        <matplotlib.axes._subplots.AxesSubplot object at 0x7fc43bac5650>,\n",
       "        <matplotlib.axes._subplots.AxesSubplot object at 0x7fc43bab7450>]], dtype=object)"
      ]
     },
     "execution_count": 19,
     "metadata": {},
     "output_type": "execute_result"
    },
    {
     "data": {
      "image/png": "[encoded data removed]",
      "text/plain": [
       "<matplotlib.figure.Figure at 0x7fc442425850>"
      ]
     },
     "metadata": {},
     "output_type": "display_data"
    }
   ],
   "source": [
    "# Scatter plot between all the page_top variables\n",
    "pd.plotting.scatter_matrix(num_data[num_cols[5:]])"
   ]
  },
  {
   "cell_type": "markdown",
   "metadata": {},
   "source": [
    "Relation within all the page_top variales are almost the same"
   ]
  },
  {
   "cell_type": "code",
   "execution_count": 31,
   "metadata": {},
   "outputs": [],
   "source": [
    "import matplotlib.pyplot as plt"
   ]
  },
  {
   "cell_type": "code",
   "execution_count": 39,
   "metadata": {},
   "outputs": [
    {
     "data": {
      "text/plain": [
       "<matplotlib.collections.PathCollection at 0x7fc439d02190>"
      ]
     },
     "execution_count": 39,
     "metadata": {},
     "output_type": "execute_result"
    },
    {
     "data": {
      "image/png": "[encoded data removed]",
      "text/plain": [
       "<matplotlib.figure.Figure at 0x7fc43bba6c90>"
      ]
     },
     "metadata": {},
     "output_type": "display_data"
    }
   ],
   "source": [
    "# Scatter plot between 'metric and its respective page_top' variables\n",
    "\n",
    "plt.figure(figsize=(18,16))\n",
    "plt.subplot(3,2,1)\n",
    "plt.title('metric1 vs page1_top')\n",
    "plt.xlabel('metric1')\n",
    "plt.ylabel('page1_top')\n",
    "plt.scatter(num_data['metric1'],num_data['page1_top'])\n",
    "plt.subplot(3,2,2)\n",
    "plt.title('metric2 vs page2_top')\n",
    "plt.xlabel('metric2')\n",
    "plt.ylabel('page2_top')\n",
    "plt.scatter(num_data['metric2'],num_data['page2_top'])\n",
    "plt.subplot(3,2,3)\n",
    "plt.title('metric3 vs page3_top')\n",
    "plt.xlabel('metric3')\n",
    "plt.ylabel('page3_top')\n",
    "plt.scatter(num_data['metric3'],num_data['page3_top'])\n",
    "plt.subplot(3,2,4)\n",
    "plt.title('metric4 vs page4_top')\n",
    "plt.xlabel('metric4')\n",
    "plt.ylabel('page4_top')\n",
    "plt.scatter(num_data['metric4'],num_data['page4_top'])\n",
    "plt.subplot(3,2,5)\n",
    "plt.title('metric5 vs page5_top')\n",
    "plt.xlabel('metric5')\n",
    "plt.ylabel('page5_top')\n",
    "plt.scatter(num_data['metric5'],num_data['page5_top'])\n",
    "plt.subplot(3,2,6)\n",
    "plt.title('metric6 vs page6_top')\n",
    "plt.xlabel('metric6')\n",
    "plt.ylabel('page6_top')\n",
    "plt.scatter(num_data['metric6'],num_data['page6_top'])"
   ]
  },
  {
   "cell_type": "markdown",
   "metadata": {},
   "source": [
    "Seems like relation between \n",
    "\n",
    "    1. metric1 vs page1_top is very much inversely proportional, so using any of those variables should be fine.\n",
    "    2. metric6 vs page6_top is much inversely proportional, so using any of those variables should be fine.\n",
    "    3. metric2 vs page2_top & metric5 vs page5_top: doesn't seem to have much relation, but bucketing metric5 w.r.t page5_top and similary for metric2 and page2_top would work\n",
    "    4. for the rest of the combinations most of the data seems scattered across, so lets use all of them in predicting the target"
   ]
  },
  {
   "cell_type": "code",
   "execution_count": 41,
   "metadata": {},
   "outputs": [
    {
     "name": "stderr",
     "output_type": "stream",
     "text": [
      "/usr/local/lib/python2.7/dist-packages/ipykernel_launcher.py:1: RuntimeWarning: divide by zero encountered in log10\n",
      "  \"\"\"Entry point for launching an IPython kernel.\n"
     ]
    },
    {
     "data": {
      "text/plain": [
       "<matplotlib.collections.PathCollection at 0x7fc439bf2b10>"
      ]
     },
     "execution_count": 41,
     "metadata": {},
     "output_type": "execute_result"
    },
    {
     "data": {
      "image/png": "[encoded data removed]",
      "text/plain": [
       "<matplotlib.figure.Figure at 0x7fc439b8f5d0>"
      ]
     },
     "metadata": {},
     "output_type": "display_data"
    }
   ],
   "source": [
    "plt.scatter(np.log10(num_data['metric1']), num_data['metric3'])"
   ]
  },
  {
   "cell_type": "code",
   "execution_count": 44,
   "metadata": {},
   "outputs": [
    {
     "name": "stderr",
     "output_type": "stream",
     "text": [
      "/usr/local/lib/python2.7/dist-packages/ipykernel_launcher.py:1: RuntimeWarning: divide by zero encountered in divide\n",
      "  \"\"\"Entry point for launching an IPython kernel.\n"
     ]
    }
   ],
   "source": [
    "metric1_inv = np.divide(np.ones_like(num_data['metric1'])*1.0, num_data['metric1'])"
   ]
  },
  {
   "cell_type": "code",
   "execution_count": 45,
   "metadata": {},
   "outputs": [
    {
     "data": {
      "text/plain": [
       "<matplotlib.collections.PathCollection at 0x7fc439b10310>"
      ]
     },
     "execution_count": 45,
     "metadata": {},
     "output_type": "execute_result"
    },
    {
     "data": {
      "image/png": "[encoded data removed]",
      "text/plain": [
       "<matplotlib.figure.Figure at 0x7fc439b5d610>"
      ]
     },
     "metadata": {},
     "output_type": "display_data"
    }
   ],
   "source": [
    "plt.scatter(metric1_inv, num_data['page1_top'])"
   ]
  },
  {
   "cell_type": "code",
   "execution_count": 47,
   "metadata": {},
   "outputs": [
    {
     "data": {
      "text/plain": [
       "183"
      ]
     },
     "execution_count": 47,
     "metadata": {},
     "output_type": "execute_result"
    }
   ],
   "source": [
    "len(metric1_inv.unique())"
   ]
  },
  {
   "cell_type": "code",
   "execution_count": null,
   "metadata": {},
   "outputs": [],
   "source": []
  },
  {
   "cell_type": "code",
   "execution_count": 66,
   "metadata": {},
   "outputs": [],
   "source": [
    "from sklearn.ensemble import RandomForestClassifier\n",
    "from sklearn.metrics import classification_report\n",
    "from sklearn.metrics import accuracy_score, confusion_matrix, roc_auc_score"
   ]
  },
  {
   "cell_type": "code",
   "execution_count": 69,
   "metadata": {},
   "outputs": [],
   "source": [
    "def evaluate_model(target_true,target_predicted):\n",
    "    print \"Confusion Matrix: \\n\", confusion_matrix(target_true,target_predicted)\n",
    "    print \"\\nClassification Report: \\n\",classification_report(target_true,target_predicted)\n",
    "    print \"\\nThe Accuracy score is {:.2%}\".format(accuracy_score(target_true,target_predicted))\n",
    "    print \"\\nAUC_ROC Score is {:.2%}\".format(roc_auc_score(target_true,target_predicted))"
   ]
  },
  {
   "cell_type": "code",
   "execution_count": null,
   "metadata": {},
   "outputs": [],
   "source": []
  },
  {
   "cell_type": "code",
   "execution_count": 83,
   "metadata": {},
   "outputs": [
    {
     "name": "stderr",
     "output_type": "stream",
     "text": [
      "/usr/local/lib/python2.7/dist-packages/ipykernel_launcher.py:1: RuntimeWarning: divide by zero encountered in divide\n",
      "  \"\"\"Entry point for launching an IPython kernel.\n"
     ]
    }
   ],
   "source": [
    "train['metric1_inv'] = np.divide(np.ones_like(train['metric1'])*1.0, train['metric1'])"
   ]
  },
  {
   "cell_type": "code",
   "execution_count": 84,
   "metadata": {},
   "outputs": [],
   "source": [
    "# Splitting the training data to train and validation sets\n",
    "X = train[train.columns.difference(['target'])]\n",
    "Y = train['target']\n",
    "\n",
    "from sklearn.model_selection import train_test_split\n",
    "\n",
    "X_train, X_val, Y_train, Y_val = train_test_split(X, Y, test_size=0.30, random_state=42)"
   ]
  },
  {
   "cell_type": "code",
   "execution_count": 85,
   "metadata": {},
   "outputs": [
    {
     "name": "stdout",
     "output_type": "stream",
     "text": [
      "Index([u'binary_var1', u'binary_var2', u'country', u'dayHourMinute', u'device',\n",
      "       u'metric1', u'metric1_inv', u'metric2', u'metric3', u'metric4',\n",
      "       u'metric5', u'metric6', u'page1_top', u'page2_top', u'page3_top',\n",
      "       u'page4_top', u'page5_top', u'page6_top', u'region', u'sourceMedium',\n",
      "       u'unique_id', u'visited_page1', u'visited_page2', u'visited_page3',\n",
      "       u'visited_page4', u'visited_page5', u'visited_page6'],\n",
      "      dtype='object')\n"
     ]
    }
   ],
   "source": [
    "print X_train.columns"
   ]
  },
  {
   "cell_type": "code",
   "execution_count": 90,
   "metadata": {},
   "outputs": [],
   "source": [
    "use_cols = ['binary_var1', 'binary_var2', 'dayHourMinute', \n",
    "       #'metric2', 'metric3', 'metric4', \n",
    "        'metric5', 'metric6',\n",
    "       'page2_top', 'page3_top', 'page4_top', 'page5_top', # 'page1_top', 'page6_top',\n",
    "        #'region', #'sourceMedium', 'device', 'country',\n",
    "       'visited_page2', \n",
    "        'metric1', \n",
    "        'visited_page1', 'visited_page3', 'visited_page4', 'visited_page5', 'visited_page6',\n",
    "           ]"
   ]
  },
  {
   "cell_type": "code",
   "execution_count": 91,
   "metadata": {},
   "outputs": [
    {
     "name": "stdout",
     "output_type": "stream",
     "text": [
      "Confusion Matrix: \n",
      "[[181551  39581]\n",
      " [  3509  18847]]\n",
      "\n",
      "Classification Report: \n",
      "             precision    recall  f1-score   support\n",
      "\n",
      "          0       0.98      0.82      0.89    221132\n",
      "          1       0.32      0.84      0.47     22356\n",
      "\n",
      "avg / total       0.92      0.82      0.85    243488\n",
      "\n",
      "\n",
      "The Accuracy score is 82.30%\n",
      "\n",
      "AUC_ROC Score is 83.20%\n"
     ]
    }
   ],
   "source": [
    "# Random Forests\n",
    "params = {'max_depth':14,'min_samples_split':3,\n",
    "          'n_jobs':1, \n",
    "          'n_estimators': 700,\n",
    "          'class_weight':'balanced_subsample'}\n",
    "forest = RandomForestClassifier(**params)\n",
    "classifier = forest.fit(X_train[use_cols], Y_train)\n",
    "\n",
    "# Train\n",
    "predicted = classifier.predict(X_train[use_cols])\n",
    "evaluate_model(Y_train,predicted)"
   ]
  },
  {
   "cell_type": "code",
   "execution_count": 81,
   "metadata": {},
   "outputs": [
    {
     "name": "stdout",
     "output_type": "stream",
     "text": [
      "Confusion Matrix: \n",
      "[[183063  38069]\n",
      " [  3407  18949]]\n",
      "\n",
      "Classification Report: \n",
      "             precision    recall  f1-score   support\n",
      "\n",
      "          0       0.98      0.83      0.90    221132\n",
      "          1       0.33      0.85      0.48     22356\n",
      "\n",
      "avg / total       0.92      0.83      0.86    243488\n",
      "\n",
      "\n",
      "The Accuracy score is 82.97%\n",
      "\n",
      "AUC_ROC Score is 83.77%\n"
     ]
    }
   ],
   "source": []
  },
  {
   "cell_type": "code",
   "execution_count": 116,
   "metadata": {},
   "outputs": [
    {
     "name": "stdout",
     "output_type": "stream",
     "text": [
      "Confusion Matrix: \n",
      "[[77497 17407]\n",
      " [ 1999  7450]]\n",
      "\n",
      "Classification Report: \n",
      "             precision    recall  f1-score   support\n",
      "\n",
      "          0       0.97      0.82      0.89     94904\n",
      "          1       0.30      0.79      0.43      9449\n",
      "\n",
      "avg / total       0.91      0.81      0.85    104353\n",
      "\n",
      "\n",
      "The Accuracy score is 81.40%\n",
      "\n",
      "AUC_ROC Score is 80.25%\n"
     ]
    }
   ],
   "source": [
    "# Predictions on Val set\n",
    "predicted = classifier.predict(X_val[use_cols])\n",
    "evaluate_model(Y_val,predicted)"
   ]
  },
  {
   "cell_type": "code",
   "execution_count": null,
   "metadata": {},
   "outputs": [],
   "source": []
  },
  {
   "cell_type": "markdown",
   "metadata": {},
   "source": [
    "Trying another (complex) model as Random Forest, after hyper parameter tuning, couldn't improve the predictions"
   ]
  },
  {
   "cell_type": "code",
   "execution_count": 93,
   "metadata": {},
   "outputs": [
    {
     "name": "stderr",
     "output_type": "stream",
     "text": [
      "/usr/local/lib/python2.7/dist-packages/sklearn/cross_validation.py:41: DeprecationWarning: This module was deprecated in version 0.18 in favor of the model_selection module into which all the refactored classes and functions are moved. Also note that the interface of the new CV iterators are different from that of this module. This module will be removed in 0.20.\n",
      "  \"This module will be removed in 0.20.\", DeprecationWarning)\n",
      "/usr/local/lib/python2.7/dist-packages/sklearn/grid_search.py:42: DeprecationWarning: This module was deprecated in version 0.18 in favor of the model_selection module into which all the refactored classes and functions are moved. This module will be removed in 0.20.\n",
      "  DeprecationWarning)\n"
     ]
    }
   ],
   "source": [
    "import xgboost as xgb\n",
    "from xgboost.sklearn import XGBClassifier\n",
    "from sklearn.grid_search import GridSearchCV"
   ]
  },
  {
   "cell_type": "code",
   "execution_count": 94,
   "metadata": {},
   "outputs": [],
   "source": [
    "from matplotlib.pylab import rcParams\n",
    "rcParams['figure.figsize'] = 12, 4"
   ]
  },
  {
   "cell_type": "code",
   "execution_count": 103,
   "metadata": {},
   "outputs": [],
   "source": [
    "from sklearn.preprocessing import LabelEncoder\n",
    "\n",
    "le = LabelEncoder()\n",
    "for feature in ['binary_var1', 'binary_var2', 'visited_page2', 'visited_page1', 'visited_page3', 'visited_page4',\n",
    "                'visited_page5', 'visited_page6']:\n",
    "    train[feature] = le.fit_transform(train[feature])"
   ]
  },
  {
   "cell_type": "code",
   "execution_count": 97,
   "metadata": {},
   "outputs": [],
   "source": [
    "predictors = ['binary_var1', 'binary_var2', 'dayHourMinute', \n",
    "               'metric2', 'metric3', 'metric4', \n",
    "                'metric5', 'metric6',\n",
    "           'page2_top', 'page3_top', 'page4_top', 'page5_top', 'page1_top', 'page6_top',\n",
    "            #'region', #'sourceMedium', 'device', 'country',\n",
    "           'visited_page2', \n",
    "            'metric1', \n",
    "            'visited_page1', 'visited_page3', 'visited_page4', 'visited_page5', 'visited_page6',\n",
    "           ]"
   ]
  },
  {
   "cell_type": "code",
   "execution_count": 109,
   "metadata": {},
   "outputs": [],
   "source": [
    "target = 'target'\n",
    "def modelfit(alg, dtrain, predictors, useTrainCV=True, cv_folds=5, early_stopping_rounds=50):\n",
    "    \n",
    "    if useTrainCV:\n",
    "        xgb_param = alg.get_xgb_params()\n",
    "        xgtrain = xgb.DMatrix(dtrain[predictors].values, label=dtrain[target].values)\n",
    "        cvresult = xgb.cv(xgb_param, xgtrain, num_boost_round=alg.get_params()['n_estimators'], nfold=cv_folds,\n",
    "            metrics='auc', early_stopping_rounds=early_stopping_rounds) #, show_progress=False\n",
    "        alg.set_params(n_estimators=cvresult.shape[0])\n",
    "    \n",
    "    #Fit the algorithm on the data\n",
    "    alg.fit(dtrain[predictors], dtrain['target'],eval_metric='auc')\n",
    "        \n",
    "    #Predict training set:\n",
    "    dtrain_predictions = alg.predict(dtrain[predictors])\n",
    "    dtrain_predprob = alg.predict_proba(dtrain[predictors])[:,1]\n",
    "        \n",
    "    #Print model report:\n",
    "    print \"\\nModel Report\"\n",
    "    #evaluate_model(dtrain['target'], dtrain_predprob)\n",
    "    #print \"Confusion Matrix: \\n\", confusion_matrix(dtrain['target'], dtrain_predprob)\n",
    "    #print \"\\nClassification Report: \\n\",classification_report(target_true,target_predicted)\n",
    "    print \"\\nThe Accuracy score is {:.2%}\".format(accuracy_score(dtrain['target'], dtrain_predprob))\n",
    "    print \"\\nAUC_ROC Score is {:.2%}\".format(roc_auc_score(dtrain['target'], dtrain_predprob))"
   ]
  },
  {
   "cell_type": "code",
   "execution_count": null,
   "metadata": {},
   "outputs": [],
   "source": []
  },
  {
   "cell_type": "code",
   "execution_count": null,
   "metadata": {},
   "outputs": [],
   "source": [
    "%%time\n",
    "\n",
    "xgb1 = XGBClassifier(\n",
    " learning_rate =0.1,\n",
    " n_estimators=950,\n",
    " max_depth=7,\n",
    " min_child_weight=1,\n",
    " gamma=0,\n",
    " subsample=0.8,\n",
    " colsample_bytree=0.8,\n",
    " objective= 'binary:logistic',\n",
    " nthread=4,\n",
    " scale_pos_weight=1,\n",
    " seed=42)\n",
    "\n",
    "## Train model and predict on train dataset\n",
    "modelfit(xgb1, train, predictors=predictors)\n",
    "\n",
    "#Since the XGBOOST algorithm takes too much CPU, couldn't run properly on this machine. \n",
    "# Predicting test target variable based on RF classifier only."
   ]
  },
  {
   "cell_type": "code",
   "execution_count": null,
   "metadata": {},
   "outputs": [],
   "source": [
    "#Predict Val set:\n",
    "dtrain_predictions = alg.predict(test[predictors])\n",
    "dtrain_predprob = alg.predict_proba(test[predictors])[:,1]"
   ]
  },
  {
   "cell_type": "markdown",
   "metadata": {},
   "source": [
    "Predictions on Test dataset"
   ]
  },
  {
   "cell_type": "code",
   "execution_count": 111,
   "metadata": {},
   "outputs": [],
   "source": [
    "# Page1_Visited means whether unique id has visited the page or not => categorical\n",
    "for col in ['visited_page1', 'visited_page2', 'visited_page3',  'visited_page4', 'visited_page5', 'visited_page6']:\n",
    "    test[col] = test[col].astype('category')\n",
    "\n",
    "# Binary_Var contains binary values\n",
    "for col in ['binary_var1', 'binary_var2']:\n",
    "    test[col] = test[col].astype('category')\n",
    "\n",
    "# region/sourceMedium/country/device are also treated categorical\n",
    "for col in ['region', 'sourceMedium', 'device', 'country']:\n",
    "    test[col] = test[col].astype('category')\n",
    "    \n",
    "le = LabelEncoder()\n",
    "for feature in ['binary_var1', 'binary_var2', 'visited_page2', 'visited_page1', 'visited_page3', 'visited_page4',\n",
    "                'visited_page5', 'visited_page6']:\n",
    "    test[feature] = le.fit_transform(test[feature])"
   ]
  },
  {
   "cell_type": "code",
   "execution_count": 112,
   "metadata": {},
   "outputs": [],
   "source": [
    "# Predictions on Val set (Used Random Forest)\n",
    "test_predicted = classifier.predict(test[use_cols])"
   ]
  },
  {
   "cell_type": "code",
   "execution_count": 113,
   "metadata": {},
   "outputs": [],
   "source": [
    "test_pred =pd.DataFrame(test_predicted,columns=['Predict_Target'])\n",
    "test_df1 = pd.concat([test['unique_id'], test_pred],axis=1)\n",
    "test_df1.columns = [\"Unique_id\", \"Predict_Target\"]"
   ]
  },
  {
   "cell_type": "code",
   "execution_count": 114,
   "metadata": {},
   "outputs": [],
   "source": [
    "np.savetxt(\"prob1_submission.csv\", test_df1, delimiter=\",\", fmt='%s', header=\"Unique_id, Predict_Target\")"
   ]
  },
  {
   "cell_type": "code",
   "execution_count": null,
   "metadata": {},
   "outputs": [],
   "source": []
  },
  {
   "cell_type": "code",
   "execution_count": null,
   "metadata": {},
   "outputs": [],
   "source": []
  }
 ],
 "metadata": {
  "kernelspec": {
   "display_name": "Python 2",
   "language": "python",
   "name": "python2"
  },
  "language_info": {
   "codemirror_mode": {
    "name": "ipython",
    "version": 2
   },
   "file_extension": ".py",
   "mimetype": "text/x-python",
   "name": "python",
   "nbconvert_exporter": "python",
   "pygments_lexer": "ipython2",
   "version": "2.7.14"
  }
 },
 "nbformat": 4,
 "nbformat_minor": 2
}
